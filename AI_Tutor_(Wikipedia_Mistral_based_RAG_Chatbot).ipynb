{
  "nbformat": 4,
  "nbformat_minor": 0,
  "metadata": {
    "colab": {
      "provenance": [],
      "gpuType": "T4"
    },
    "kernelspec": {
      "name": "python3",
      "display_name": "Python 3"
    },
    "language_info": {
      "name": "python"
    },
    "widgets": {
      "application/vnd.jupyter.widget-state+json": {
        "0242124dd0e64f23876dbb826b1d53c1": {
          "model_module": "@jupyter-widgets/controls",
          "model_name": "VBoxModel",
          "model_module_version": "1.5.0",
          "state": {
            "_dom_classes": [],
            "_model_module": "@jupyter-widgets/controls",
            "_model_module_version": "1.5.0",
            "_model_name": "VBoxModel",
            "_view_count": null,
            "_view_module": "@jupyter-widgets/controls",
            "_view_module_version": "1.5.0",
            "_view_name": "VBoxView",
            "box_style": "",
            "children": [
              "IPY_MODEL_532108514f854296a193c25f5bec1e2e"
            ],
            "layout": "IPY_MODEL_ddbf8701da4e4fcc869ac904e22021d5"
          }
        },
        "fc3ff00a5f8446448f89bb197e598321": {
          "model_module": "@jupyter-widgets/controls",
          "model_name": "HTMLModel",
          "model_module_version": "1.5.0",
          "state": {
            "_dom_classes": [],
            "_model_module": "@jupyter-widgets/controls",
            "_model_module_version": "1.5.0",
            "_model_name": "HTMLModel",
            "_view_count": null,
            "_view_module": "@jupyter-widgets/controls",
            "_view_module_version": "1.5.0",
            "_view_name": "HTMLView",
            "description": "",
            "description_tooltip": null,
            "layout": "IPY_MODEL_cec35ef73cbc42d699bca7b5194b8ebf",
            "placeholder": "​",
            "style": "IPY_MODEL_d555bf2b559444d7a8ac7621952e1955",
            "value": "<center> <img\nsrc=https://huggingface.co/front/assets/huggingface_logo-noborder.svg\nalt='Hugging Face'> <br> Copy a token from <a\nhref=\"https://huggingface.co/settings/tokens\" target=\"_blank\">your Hugging Face\ntokens page</a> and paste it below. <br> Immediately click login after copying\nyour token or it might be stored in plain text in this notebook file. </center>"
          }
        },
        "a6b53f39287a4dd5a4ee17b36b7ddcab": {
          "model_module": "@jupyter-widgets/controls",
          "model_name": "PasswordModel",
          "model_module_version": "1.5.0",
          "state": {
            "_dom_classes": [],
            "_model_module": "@jupyter-widgets/controls",
            "_model_module_version": "1.5.0",
            "_model_name": "PasswordModel",
            "_view_count": null,
            "_view_module": "@jupyter-widgets/controls",
            "_view_module_version": "1.5.0",
            "_view_name": "PasswordView",
            "continuous_update": true,
            "description": "Token:",
            "description_tooltip": null,
            "disabled": false,
            "layout": "IPY_MODEL_cc0e22f677094b4491012d44b5444a0f",
            "placeholder": "​",
            "style": "IPY_MODEL_5f24855969c84a44a9207cb1c3389374",
            "value": ""
          }
        },
        "1d8e4c379aab48dd8e83f6e87cde8cf2": {
          "model_module": "@jupyter-widgets/controls",
          "model_name": "CheckboxModel",
          "model_module_version": "1.5.0",
          "state": {
            "_dom_classes": [],
            "_model_module": "@jupyter-widgets/controls",
            "_model_module_version": "1.5.0",
            "_model_name": "CheckboxModel",
            "_view_count": null,
            "_view_module": "@jupyter-widgets/controls",
            "_view_module_version": "1.5.0",
            "_view_name": "CheckboxView",
            "description": "Add token as git credential?",
            "description_tooltip": null,
            "disabled": false,
            "indent": true,
            "layout": "IPY_MODEL_0893de6653994da7827df7a019caab9a",
            "style": "IPY_MODEL_17f3ceea255946e1ad741d9a54aa3fa1",
            "value": true
          }
        },
        "443a7c66846348058035565a2b951f25": {
          "model_module": "@jupyter-widgets/controls",
          "model_name": "ButtonModel",
          "model_module_version": "1.5.0",
          "state": {
            "_dom_classes": [],
            "_model_module": "@jupyter-widgets/controls",
            "_model_module_version": "1.5.0",
            "_model_name": "ButtonModel",
            "_view_count": null,
            "_view_module": "@jupyter-widgets/controls",
            "_view_module_version": "1.5.0",
            "_view_name": "ButtonView",
            "button_style": "",
            "description": "Login",
            "disabled": false,
            "icon": "",
            "layout": "IPY_MODEL_bc31fa8057ea44cf82cd6095e1156086",
            "style": "IPY_MODEL_bdae77b3a6f642948347556232515fa0",
            "tooltip": ""
          }
        },
        "4b8627ac6dbd4d47835c9ac7e720de46": {
          "model_module": "@jupyter-widgets/controls",
          "model_name": "HTMLModel",
          "model_module_version": "1.5.0",
          "state": {
            "_dom_classes": [],
            "_model_module": "@jupyter-widgets/controls",
            "_model_module_version": "1.5.0",
            "_model_name": "HTMLModel",
            "_view_count": null,
            "_view_module": "@jupyter-widgets/controls",
            "_view_module_version": "1.5.0",
            "_view_name": "HTMLView",
            "description": "",
            "description_tooltip": null,
            "layout": "IPY_MODEL_1752a94c90434cc787dbb844db160db5",
            "placeholder": "​",
            "style": "IPY_MODEL_6419e8f371564de2b0d3831a28ff4007",
            "value": "\n<b>Pro Tip:</b> If you don't already have one, you can create a dedicated\n'notebooks' token with 'write' access, that you can then easily reuse for all\nnotebooks. </center>"
          }
        },
        "ddbf8701da4e4fcc869ac904e22021d5": {
          "model_module": "@jupyter-widgets/base",
          "model_name": "LayoutModel",
          "model_module_version": "1.2.0",
          "state": {
            "_model_module": "@jupyter-widgets/base",
            "_model_module_version": "1.2.0",
            "_model_name": "LayoutModel",
            "_view_count": null,
            "_view_module": "@jupyter-widgets/base",
            "_view_module_version": "1.2.0",
            "_view_name": "LayoutView",
            "align_content": null,
            "align_items": "center",
            "align_self": null,
            "border": null,
            "bottom": null,
            "display": "flex",
            "flex": null,
            "flex_flow": "column",
            "grid_area": null,
            "grid_auto_columns": null,
            "grid_auto_flow": null,
            "grid_auto_rows": null,
            "grid_column": null,
            "grid_gap": null,
            "grid_row": null,
            "grid_template_areas": null,
            "grid_template_columns": null,
            "grid_template_rows": null,
            "height": null,
            "justify_content": null,
            "justify_items": null,
            "left": null,
            "margin": null,
            "max_height": null,
            "max_width": null,
            "min_height": null,
            "min_width": null,
            "object_fit": null,
            "object_position": null,
            "order": null,
            "overflow": null,
            "overflow_x": null,
            "overflow_y": null,
            "padding": null,
            "right": null,
            "top": null,
            "visibility": null,
            "width": "50%"
          }
        },
        "cec35ef73cbc42d699bca7b5194b8ebf": {
          "model_module": "@jupyter-widgets/base",
          "model_name": "LayoutModel",
          "model_module_version": "1.2.0",
          "state": {
            "_model_module": "@jupyter-widgets/base",
            "_model_module_version": "1.2.0",
            "_model_name": "LayoutModel",
            "_view_count": null,
            "_view_module": "@jupyter-widgets/base",
            "_view_module_version": "1.2.0",
            "_view_name": "LayoutView",
            "align_content": null,
            "align_items": null,
            "align_self": null,
            "border": null,
            "bottom": null,
            "display": null,
            "flex": null,
            "flex_flow": null,
            "grid_area": null,
            "grid_auto_columns": null,
            "grid_auto_flow": null,
            "grid_auto_rows": null,
            "grid_column": null,
            "grid_gap": null,
            "grid_row": null,
            "grid_template_areas": null,
            "grid_template_columns": null,
            "grid_template_rows": null,
            "height": null,
            "justify_content": null,
            "justify_items": null,
            "left": null,
            "margin": null,
            "max_height": null,
            "max_width": null,
            "min_height": null,
            "min_width": null,
            "object_fit": null,
            "object_position": null,
            "order": null,
            "overflow": null,
            "overflow_x": null,
            "overflow_y": null,
            "padding": null,
            "right": null,
            "top": null,
            "visibility": null,
            "width": null
          }
        },
        "d555bf2b559444d7a8ac7621952e1955": {
          "model_module": "@jupyter-widgets/controls",
          "model_name": "DescriptionStyleModel",
          "model_module_version": "1.5.0",
          "state": {
            "_model_module": "@jupyter-widgets/controls",
            "_model_module_version": "1.5.0",
            "_model_name": "DescriptionStyleModel",
            "_view_count": null,
            "_view_module": "@jupyter-widgets/base",
            "_view_module_version": "1.2.0",
            "_view_name": "StyleView",
            "description_width": ""
          }
        },
        "cc0e22f677094b4491012d44b5444a0f": {
          "model_module": "@jupyter-widgets/base",
          "model_name": "LayoutModel",
          "model_module_version": "1.2.0",
          "state": {
            "_model_module": "@jupyter-widgets/base",
            "_model_module_version": "1.2.0",
            "_model_name": "LayoutModel",
            "_view_count": null,
            "_view_module": "@jupyter-widgets/base",
            "_view_module_version": "1.2.0",
            "_view_name": "LayoutView",
            "align_content": null,
            "align_items": null,
            "align_self": null,
            "border": null,
            "bottom": null,
            "display": null,
            "flex": null,
            "flex_flow": null,
            "grid_area": null,
            "grid_auto_columns": null,
            "grid_auto_flow": null,
            "grid_auto_rows": null,
            "grid_column": null,
            "grid_gap": null,
            "grid_row": null,
            "grid_template_areas": null,
            "grid_template_columns": null,
            "grid_template_rows": null,
            "height": null,
            "justify_content": null,
            "justify_items": null,
            "left": null,
            "margin": null,
            "max_height": null,
            "max_width": null,
            "min_height": null,
            "min_width": null,
            "object_fit": null,
            "object_position": null,
            "order": null,
            "overflow": null,
            "overflow_x": null,
            "overflow_y": null,
            "padding": null,
            "right": null,
            "top": null,
            "visibility": null,
            "width": null
          }
        },
        "5f24855969c84a44a9207cb1c3389374": {
          "model_module": "@jupyter-widgets/controls",
          "model_name": "DescriptionStyleModel",
          "model_module_version": "1.5.0",
          "state": {
            "_model_module": "@jupyter-widgets/controls",
            "_model_module_version": "1.5.0",
            "_model_name": "DescriptionStyleModel",
            "_view_count": null,
            "_view_module": "@jupyter-widgets/base",
            "_view_module_version": "1.2.0",
            "_view_name": "StyleView",
            "description_width": ""
          }
        },
        "0893de6653994da7827df7a019caab9a": {
          "model_module": "@jupyter-widgets/base",
          "model_name": "LayoutModel",
          "model_module_version": "1.2.0",
          "state": {
            "_model_module": "@jupyter-widgets/base",
            "_model_module_version": "1.2.0",
            "_model_name": "LayoutModel",
            "_view_count": null,
            "_view_module": "@jupyter-widgets/base",
            "_view_module_version": "1.2.0",
            "_view_name": "LayoutView",
            "align_content": null,
            "align_items": null,
            "align_self": null,
            "border": null,
            "bottom": null,
            "display": null,
            "flex": null,
            "flex_flow": null,
            "grid_area": null,
            "grid_auto_columns": null,
            "grid_auto_flow": null,
            "grid_auto_rows": null,
            "grid_column": null,
            "grid_gap": null,
            "grid_row": null,
            "grid_template_areas": null,
            "grid_template_columns": null,
            "grid_template_rows": null,
            "height": null,
            "justify_content": null,
            "justify_items": null,
            "left": null,
            "margin": null,
            "max_height": null,
            "max_width": null,
            "min_height": null,
            "min_width": null,
            "object_fit": null,
            "object_position": null,
            "order": null,
            "overflow": null,
            "overflow_x": null,
            "overflow_y": null,
            "padding": null,
            "right": null,
            "top": null,
            "visibility": null,
            "width": null
          }
        },
        "17f3ceea255946e1ad741d9a54aa3fa1": {
          "model_module": "@jupyter-widgets/controls",
          "model_name": "DescriptionStyleModel",
          "model_module_version": "1.5.0",
          "state": {
            "_model_module": "@jupyter-widgets/controls",
            "_model_module_version": "1.5.0",
            "_model_name": "DescriptionStyleModel",
            "_view_count": null,
            "_view_module": "@jupyter-widgets/base",
            "_view_module_version": "1.2.0",
            "_view_name": "StyleView",
            "description_width": ""
          }
        },
        "bc31fa8057ea44cf82cd6095e1156086": {
          "model_module": "@jupyter-widgets/base",
          "model_name": "LayoutModel",
          "model_module_version": "1.2.0",
          "state": {
            "_model_module": "@jupyter-widgets/base",
            "_model_module_version": "1.2.0",
            "_model_name": "LayoutModel",
            "_view_count": null,
            "_view_module": "@jupyter-widgets/base",
            "_view_module_version": "1.2.0",
            "_view_name": "LayoutView",
            "align_content": null,
            "align_items": null,
            "align_self": null,
            "border": null,
            "bottom": null,
            "display": null,
            "flex": null,
            "flex_flow": null,
            "grid_area": null,
            "grid_auto_columns": null,
            "grid_auto_flow": null,
            "grid_auto_rows": null,
            "grid_column": null,
            "grid_gap": null,
            "grid_row": null,
            "grid_template_areas": null,
            "grid_template_columns": null,
            "grid_template_rows": null,
            "height": null,
            "justify_content": null,
            "justify_items": null,
            "left": null,
            "margin": null,
            "max_height": null,
            "max_width": null,
            "min_height": null,
            "min_width": null,
            "object_fit": null,
            "object_position": null,
            "order": null,
            "overflow": null,
            "overflow_x": null,
            "overflow_y": null,
            "padding": null,
            "right": null,
            "top": null,
            "visibility": null,
            "width": null
          }
        },
        "bdae77b3a6f642948347556232515fa0": {
          "model_module": "@jupyter-widgets/controls",
          "model_name": "ButtonStyleModel",
          "model_module_version": "1.5.0",
          "state": {
            "_model_module": "@jupyter-widgets/controls",
            "_model_module_version": "1.5.0",
            "_model_name": "ButtonStyleModel",
            "_view_count": null,
            "_view_module": "@jupyter-widgets/base",
            "_view_module_version": "1.2.0",
            "_view_name": "StyleView",
            "button_color": null,
            "font_weight": ""
          }
        },
        "1752a94c90434cc787dbb844db160db5": {
          "model_module": "@jupyter-widgets/base",
          "model_name": "LayoutModel",
          "model_module_version": "1.2.0",
          "state": {
            "_model_module": "@jupyter-widgets/base",
            "_model_module_version": "1.2.0",
            "_model_name": "LayoutModel",
            "_view_count": null,
            "_view_module": "@jupyter-widgets/base",
            "_view_module_version": "1.2.0",
            "_view_name": "LayoutView",
            "align_content": null,
            "align_items": null,
            "align_self": null,
            "border": null,
            "bottom": null,
            "display": null,
            "flex": null,
            "flex_flow": null,
            "grid_area": null,
            "grid_auto_columns": null,
            "grid_auto_flow": null,
            "grid_auto_rows": null,
            "grid_column": null,
            "grid_gap": null,
            "grid_row": null,
            "grid_template_areas": null,
            "grid_template_columns": null,
            "grid_template_rows": null,
            "height": null,
            "justify_content": null,
            "justify_items": null,
            "left": null,
            "margin": null,
            "max_height": null,
            "max_width": null,
            "min_height": null,
            "min_width": null,
            "object_fit": null,
            "object_position": null,
            "order": null,
            "overflow": null,
            "overflow_x": null,
            "overflow_y": null,
            "padding": null,
            "right": null,
            "top": null,
            "visibility": null,
            "width": null
          }
        },
        "6419e8f371564de2b0d3831a28ff4007": {
          "model_module": "@jupyter-widgets/controls",
          "model_name": "DescriptionStyleModel",
          "model_module_version": "1.5.0",
          "state": {
            "_model_module": "@jupyter-widgets/controls",
            "_model_module_version": "1.5.0",
            "_model_name": "DescriptionStyleModel",
            "_view_count": null,
            "_view_module": "@jupyter-widgets/base",
            "_view_module_version": "1.2.0",
            "_view_name": "StyleView",
            "description_width": ""
          }
        },
        "217a6626888443809a3d14892df811f6": {
          "model_module": "@jupyter-widgets/controls",
          "model_name": "LabelModel",
          "model_module_version": "1.5.0",
          "state": {
            "_dom_classes": [],
            "_model_module": "@jupyter-widgets/controls",
            "_model_module_version": "1.5.0",
            "_model_name": "LabelModel",
            "_view_count": null,
            "_view_module": "@jupyter-widgets/controls",
            "_view_module_version": "1.5.0",
            "_view_name": "LabelView",
            "description": "",
            "description_tooltip": null,
            "layout": "IPY_MODEL_38bd98e610cf4f388ce16fd1ff815af9",
            "placeholder": "​",
            "style": "IPY_MODEL_0b3af0ce567f4e33968eabbbb1fe8d6f",
            "value": "Connecting..."
          }
        },
        "38bd98e610cf4f388ce16fd1ff815af9": {
          "model_module": "@jupyter-widgets/base",
          "model_name": "LayoutModel",
          "model_module_version": "1.2.0",
          "state": {
            "_model_module": "@jupyter-widgets/base",
            "_model_module_version": "1.2.0",
            "_model_name": "LayoutModel",
            "_view_count": null,
            "_view_module": "@jupyter-widgets/base",
            "_view_module_version": "1.2.0",
            "_view_name": "LayoutView",
            "align_content": null,
            "align_items": null,
            "align_self": null,
            "border": null,
            "bottom": null,
            "display": null,
            "flex": null,
            "flex_flow": null,
            "grid_area": null,
            "grid_auto_columns": null,
            "grid_auto_flow": null,
            "grid_auto_rows": null,
            "grid_column": null,
            "grid_gap": null,
            "grid_row": null,
            "grid_template_areas": null,
            "grid_template_columns": null,
            "grid_template_rows": null,
            "height": null,
            "justify_content": null,
            "justify_items": null,
            "left": null,
            "margin": null,
            "max_height": null,
            "max_width": null,
            "min_height": null,
            "min_width": null,
            "object_fit": null,
            "object_position": null,
            "order": null,
            "overflow": null,
            "overflow_x": null,
            "overflow_y": null,
            "padding": null,
            "right": null,
            "top": null,
            "visibility": null,
            "width": null
          }
        },
        "0b3af0ce567f4e33968eabbbb1fe8d6f": {
          "model_module": "@jupyter-widgets/controls",
          "model_name": "DescriptionStyleModel",
          "model_module_version": "1.5.0",
          "state": {
            "_model_module": "@jupyter-widgets/controls",
            "_model_module_version": "1.5.0",
            "_model_name": "DescriptionStyleModel",
            "_view_count": null,
            "_view_module": "@jupyter-widgets/base",
            "_view_module_version": "1.2.0",
            "_view_name": "StyleView",
            "description_width": ""
          }
        },
        "6c0994762b9b492f8dfe19deff658cda": {
          "model_module": "@jupyter-widgets/controls",
          "model_name": "LabelModel",
          "model_module_version": "1.5.0",
          "state": {
            "_dom_classes": [],
            "_model_module": "@jupyter-widgets/controls",
            "_model_module_version": "1.5.0",
            "_model_name": "LabelModel",
            "_view_count": null,
            "_view_module": "@jupyter-widgets/controls",
            "_view_module_version": "1.5.0",
            "_view_name": "LabelView",
            "description": "",
            "description_tooltip": null,
            "layout": "IPY_MODEL_7b31ffb5678a4b23993e41e1b007f3e7",
            "placeholder": "​",
            "style": "IPY_MODEL_46fd34482b604084ac651b70641efce5",
            "value": "Connecting..."
          }
        },
        "7b31ffb5678a4b23993e41e1b007f3e7": {
          "model_module": "@jupyter-widgets/base",
          "model_name": "LayoutModel",
          "model_module_version": "1.2.0",
          "state": {
            "_model_module": "@jupyter-widgets/base",
            "_model_module_version": "1.2.0",
            "_model_name": "LayoutModel",
            "_view_count": null,
            "_view_module": "@jupyter-widgets/base",
            "_view_module_version": "1.2.0",
            "_view_name": "LayoutView",
            "align_content": null,
            "align_items": null,
            "align_self": null,
            "border": null,
            "bottom": null,
            "display": null,
            "flex": null,
            "flex_flow": null,
            "grid_area": null,
            "grid_auto_columns": null,
            "grid_auto_flow": null,
            "grid_auto_rows": null,
            "grid_column": null,
            "grid_gap": null,
            "grid_row": null,
            "grid_template_areas": null,
            "grid_template_columns": null,
            "grid_template_rows": null,
            "height": null,
            "justify_content": null,
            "justify_items": null,
            "left": null,
            "margin": null,
            "max_height": null,
            "max_width": null,
            "min_height": null,
            "min_width": null,
            "object_fit": null,
            "object_position": null,
            "order": null,
            "overflow": null,
            "overflow_x": null,
            "overflow_y": null,
            "padding": null,
            "right": null,
            "top": null,
            "visibility": null,
            "width": null
          }
        },
        "46fd34482b604084ac651b70641efce5": {
          "model_module": "@jupyter-widgets/controls",
          "model_name": "DescriptionStyleModel",
          "model_module_version": "1.5.0",
          "state": {
            "_model_module": "@jupyter-widgets/controls",
            "_model_module_version": "1.5.0",
            "_model_name": "DescriptionStyleModel",
            "_view_count": null,
            "_view_module": "@jupyter-widgets/base",
            "_view_module_version": "1.2.0",
            "_view_name": "StyleView",
            "description_width": ""
          }
        },
        "532108514f854296a193c25f5bec1e2e": {
          "model_module": "@jupyter-widgets/controls",
          "model_name": "LabelModel",
          "model_module_version": "1.5.0",
          "state": {
            "_dom_classes": [],
            "_model_module": "@jupyter-widgets/controls",
            "_model_module_version": "1.5.0",
            "_model_name": "LabelModel",
            "_view_count": null,
            "_view_module": "@jupyter-widgets/controls",
            "_view_module_version": "1.5.0",
            "_view_name": "LabelView",
            "description": "",
            "description_tooltip": null,
            "layout": "IPY_MODEL_4e965fb743f444aa9d0c9766a29e4603",
            "placeholder": "​",
            "style": "IPY_MODEL_3eab261af3fa4426a47730c808542e00",
            "value": "Token ai-tutor not found in /root/.cache/huggingface/stored_tokens"
          }
        },
        "4e965fb743f444aa9d0c9766a29e4603": {
          "model_module": "@jupyter-widgets/base",
          "model_name": "LayoutModel",
          "model_module_version": "1.2.0",
          "state": {
            "_model_module": "@jupyter-widgets/base",
            "_model_module_version": "1.2.0",
            "_model_name": "LayoutModel",
            "_view_count": null,
            "_view_module": "@jupyter-widgets/base",
            "_view_module_version": "1.2.0",
            "_view_name": "LayoutView",
            "align_content": null,
            "align_items": null,
            "align_self": null,
            "border": null,
            "bottom": null,
            "display": null,
            "flex": null,
            "flex_flow": null,
            "grid_area": null,
            "grid_auto_columns": null,
            "grid_auto_flow": null,
            "grid_auto_rows": null,
            "grid_column": null,
            "grid_gap": null,
            "grid_row": null,
            "grid_template_areas": null,
            "grid_template_columns": null,
            "grid_template_rows": null,
            "height": null,
            "justify_content": null,
            "justify_items": null,
            "left": null,
            "margin": null,
            "max_height": null,
            "max_width": null,
            "min_height": null,
            "min_width": null,
            "object_fit": null,
            "object_position": null,
            "order": null,
            "overflow": null,
            "overflow_x": null,
            "overflow_y": null,
            "padding": null,
            "right": null,
            "top": null,
            "visibility": null,
            "width": null
          }
        },
        "3eab261af3fa4426a47730c808542e00": {
          "model_module": "@jupyter-widgets/controls",
          "model_name": "DescriptionStyleModel",
          "model_module_version": "1.5.0",
          "state": {
            "_model_module": "@jupyter-widgets/controls",
            "_model_module_version": "1.5.0",
            "_model_name": "DescriptionStyleModel",
            "_view_count": null,
            "_view_module": "@jupyter-widgets/base",
            "_view_module_version": "1.2.0",
            "_view_name": "StyleView",
            "description_width": ""
          }
        },
        "1cb9968d610c4326bc88561f2151b607": {
          "model_module": "@jupyter-widgets/controls",
          "model_name": "HBoxModel",
          "model_module_version": "1.5.0",
          "state": {
            "_dom_classes": [],
            "_model_module": "@jupyter-widgets/controls",
            "_model_module_version": "1.5.0",
            "_model_name": "HBoxModel",
            "_view_count": null,
            "_view_module": "@jupyter-widgets/controls",
            "_view_module_version": "1.5.0",
            "_view_name": "HBoxView",
            "box_style": "",
            "children": [
              "IPY_MODEL_cbc9e1f867f84984a7e5d331a6520da6",
              "IPY_MODEL_0ce305d7a31e42e4807e29196a81133d",
              "IPY_MODEL_326c74ded3494b859eaeeef7e7199750"
            ],
            "layout": "IPY_MODEL_8226e3b0e3a64ce38e0cc466f1df8b01"
          }
        },
        "cbc9e1f867f84984a7e5d331a6520da6": {
          "model_module": "@jupyter-widgets/controls",
          "model_name": "HTMLModel",
          "model_module_version": "1.5.0",
          "state": {
            "_dom_classes": [],
            "_model_module": "@jupyter-widgets/controls",
            "_model_module_version": "1.5.0",
            "_model_name": "HTMLModel",
            "_view_count": null,
            "_view_module": "@jupyter-widgets/controls",
            "_view_module_version": "1.5.0",
            "_view_name": "HTMLView",
            "description": "",
            "description_tooltip": null,
            "layout": "IPY_MODEL_7a7eb350a50345a1b8671e89ef59abaf",
            "placeholder": "​",
            "style": "IPY_MODEL_d19de3cfd2e449458ddffe5d37b2a84d",
            "value": "Loading checkpoint shards: 100%"
          }
        },
        "0ce305d7a31e42e4807e29196a81133d": {
          "model_module": "@jupyter-widgets/controls",
          "model_name": "FloatProgressModel",
          "model_module_version": "1.5.0",
          "state": {
            "_dom_classes": [],
            "_model_module": "@jupyter-widgets/controls",
            "_model_module_version": "1.5.0",
            "_model_name": "FloatProgressModel",
            "_view_count": null,
            "_view_module": "@jupyter-widgets/controls",
            "_view_module_version": "1.5.0",
            "_view_name": "ProgressView",
            "bar_style": "success",
            "description": "",
            "description_tooltip": null,
            "layout": "IPY_MODEL_a7820fffe2cd45958a654a1d11476773",
            "max": 2,
            "min": 0,
            "orientation": "horizontal",
            "style": "IPY_MODEL_a6deb9ccf28f4e22bbb4ba9d485f8c4c",
            "value": 2
          }
        },
        "326c74ded3494b859eaeeef7e7199750": {
          "model_module": "@jupyter-widgets/controls",
          "model_name": "HTMLModel",
          "model_module_version": "1.5.0",
          "state": {
            "_dom_classes": [],
            "_model_module": "@jupyter-widgets/controls",
            "_model_module_version": "1.5.0",
            "_model_name": "HTMLModel",
            "_view_count": null,
            "_view_module": "@jupyter-widgets/controls",
            "_view_module_version": "1.5.0",
            "_view_name": "HTMLView",
            "description": "",
            "description_tooltip": null,
            "layout": "IPY_MODEL_751af843266743d19db2cabe612827bf",
            "placeholder": "​",
            "style": "IPY_MODEL_d5b693282d3a416193ec1ff6f7a35398",
            "value": " 2/2 [01:32&lt;00:00, 43.25s/it]"
          }
        },
        "8226e3b0e3a64ce38e0cc466f1df8b01": {
          "model_module": "@jupyter-widgets/base",
          "model_name": "LayoutModel",
          "model_module_version": "1.2.0",
          "state": {
            "_model_module": "@jupyter-widgets/base",
            "_model_module_version": "1.2.0",
            "_model_name": "LayoutModel",
            "_view_count": null,
            "_view_module": "@jupyter-widgets/base",
            "_view_module_version": "1.2.0",
            "_view_name": "LayoutView",
            "align_content": null,
            "align_items": null,
            "align_self": null,
            "border": null,
            "bottom": null,
            "display": null,
            "flex": null,
            "flex_flow": null,
            "grid_area": null,
            "grid_auto_columns": null,
            "grid_auto_flow": null,
            "grid_auto_rows": null,
            "grid_column": null,
            "grid_gap": null,
            "grid_row": null,
            "grid_template_areas": null,
            "grid_template_columns": null,
            "grid_template_rows": null,
            "height": null,
            "justify_content": null,
            "justify_items": null,
            "left": null,
            "margin": null,
            "max_height": null,
            "max_width": null,
            "min_height": null,
            "min_width": null,
            "object_fit": null,
            "object_position": null,
            "order": null,
            "overflow": null,
            "overflow_x": null,
            "overflow_y": null,
            "padding": null,
            "right": null,
            "top": null,
            "visibility": null,
            "width": null
          }
        },
        "7a7eb350a50345a1b8671e89ef59abaf": {
          "model_module": "@jupyter-widgets/base",
          "model_name": "LayoutModel",
          "model_module_version": "1.2.0",
          "state": {
            "_model_module": "@jupyter-widgets/base",
            "_model_module_version": "1.2.0",
            "_model_name": "LayoutModel",
            "_view_count": null,
            "_view_module": "@jupyter-widgets/base",
            "_view_module_version": "1.2.0",
            "_view_name": "LayoutView",
            "align_content": null,
            "align_items": null,
            "align_self": null,
            "border": null,
            "bottom": null,
            "display": null,
            "flex": null,
            "flex_flow": null,
            "grid_area": null,
            "grid_auto_columns": null,
            "grid_auto_flow": null,
            "grid_auto_rows": null,
            "grid_column": null,
            "grid_gap": null,
            "grid_row": null,
            "grid_template_areas": null,
            "grid_template_columns": null,
            "grid_template_rows": null,
            "height": null,
            "justify_content": null,
            "justify_items": null,
            "left": null,
            "margin": null,
            "max_height": null,
            "max_width": null,
            "min_height": null,
            "min_width": null,
            "object_fit": null,
            "object_position": null,
            "order": null,
            "overflow": null,
            "overflow_x": null,
            "overflow_y": null,
            "padding": null,
            "right": null,
            "top": null,
            "visibility": null,
            "width": null
          }
        },
        "d19de3cfd2e449458ddffe5d37b2a84d": {
          "model_module": "@jupyter-widgets/controls",
          "model_name": "DescriptionStyleModel",
          "model_module_version": "1.5.0",
          "state": {
            "_model_module": "@jupyter-widgets/controls",
            "_model_module_version": "1.5.0",
            "_model_name": "DescriptionStyleModel",
            "_view_count": null,
            "_view_module": "@jupyter-widgets/base",
            "_view_module_version": "1.2.0",
            "_view_name": "StyleView",
            "description_width": ""
          }
        },
        "a7820fffe2cd45958a654a1d11476773": {
          "model_module": "@jupyter-widgets/base",
          "model_name": "LayoutModel",
          "model_module_version": "1.2.0",
          "state": {
            "_model_module": "@jupyter-widgets/base",
            "_model_module_version": "1.2.0",
            "_model_name": "LayoutModel",
            "_view_count": null,
            "_view_module": "@jupyter-widgets/base",
            "_view_module_version": "1.2.0",
            "_view_name": "LayoutView",
            "align_content": null,
            "align_items": null,
            "align_self": null,
            "border": null,
            "bottom": null,
            "display": null,
            "flex": null,
            "flex_flow": null,
            "grid_area": null,
            "grid_auto_columns": null,
            "grid_auto_flow": null,
            "grid_auto_rows": null,
            "grid_column": null,
            "grid_gap": null,
            "grid_row": null,
            "grid_template_areas": null,
            "grid_template_columns": null,
            "grid_template_rows": null,
            "height": null,
            "justify_content": null,
            "justify_items": null,
            "left": null,
            "margin": null,
            "max_height": null,
            "max_width": null,
            "min_height": null,
            "min_width": null,
            "object_fit": null,
            "object_position": null,
            "order": null,
            "overflow": null,
            "overflow_x": null,
            "overflow_y": null,
            "padding": null,
            "right": null,
            "top": null,
            "visibility": null,
            "width": null
          }
        },
        "a6deb9ccf28f4e22bbb4ba9d485f8c4c": {
          "model_module": "@jupyter-widgets/controls",
          "model_name": "ProgressStyleModel",
          "model_module_version": "1.5.0",
          "state": {
            "_model_module": "@jupyter-widgets/controls",
            "_model_module_version": "1.5.0",
            "_model_name": "ProgressStyleModel",
            "_view_count": null,
            "_view_module": "@jupyter-widgets/base",
            "_view_module_version": "1.2.0",
            "_view_name": "StyleView",
            "bar_color": null,
            "description_width": ""
          }
        },
        "751af843266743d19db2cabe612827bf": {
          "model_module": "@jupyter-widgets/base",
          "model_name": "LayoutModel",
          "model_module_version": "1.2.0",
          "state": {
            "_model_module": "@jupyter-widgets/base",
            "_model_module_version": "1.2.0",
            "_model_name": "LayoutModel",
            "_view_count": null,
            "_view_module": "@jupyter-widgets/base",
            "_view_module_version": "1.2.0",
            "_view_name": "LayoutView",
            "align_content": null,
            "align_items": null,
            "align_self": null,
            "border": null,
            "bottom": null,
            "display": null,
            "flex": null,
            "flex_flow": null,
            "grid_area": null,
            "grid_auto_columns": null,
            "grid_auto_flow": null,
            "grid_auto_rows": null,
            "grid_column": null,
            "grid_gap": null,
            "grid_row": null,
            "grid_template_areas": null,
            "grid_template_columns": null,
            "grid_template_rows": null,
            "height": null,
            "justify_content": null,
            "justify_items": null,
            "left": null,
            "margin": null,
            "max_height": null,
            "max_width": null,
            "min_height": null,
            "min_width": null,
            "object_fit": null,
            "object_position": null,
            "order": null,
            "overflow": null,
            "overflow_x": null,
            "overflow_y": null,
            "padding": null,
            "right": null,
            "top": null,
            "visibility": null,
            "width": null
          }
        },
        "d5b693282d3a416193ec1ff6f7a35398": {
          "model_module": "@jupyter-widgets/controls",
          "model_name": "DescriptionStyleModel",
          "model_module_version": "1.5.0",
          "state": {
            "_model_module": "@jupyter-widgets/controls",
            "_model_module_version": "1.5.0",
            "_model_name": "DescriptionStyleModel",
            "_view_count": null,
            "_view_module": "@jupyter-widgets/base",
            "_view_module_version": "1.2.0",
            "_view_name": "StyleView",
            "description_width": ""
          }
        }
      }
    },
    "accelerator": "GPU"
  },
  "cells": [
    {
      "cell_type": "markdown",
      "source": [
        "### ***Retrieval-Augmented Generation.***\n",
        "It's a way to improve AI-generated answers by letting the model search for real information before answering."
      ],
      "metadata": {
        "id": "kDqxfMW-Elqr"
      }
    },
    {
      "cell_type": "markdown",
      "source": [
        "This project is an AI-powered Tutor designed to help school students learn by answering their questions using real-world information from Wikipedia.\n",
        "\n",
        "It uses a powerful combination of:\n",
        "\n",
        "#### ***Retrieval →*** Finds facts from Wikipedia\n",
        "\n",
        "#### ***Augmentation →*** Merges them with the student's question\n",
        "\n",
        "#### ***Generation*** → Produces a clear, personalized answer using an AI model"
      ],
      "metadata": {
        "id": "xb5lVucJGLbD"
      }
    },
    {
      "cell_type": "markdown",
      "source": [
        "### ***Helpful for Students:***\n",
        "Explains topics clearly using trusted sources\n",
        "\n",
        "Reduces confusion with accurate, direct answers\n",
        "\n",
        "Can be used for homework help, exam prep, or curiosity-based learning\n",
        "\n",
        "Always updated because it uses live Wikipedia content"
      ],
      "metadata": {
        "id": "rPZoK-1NGhTO"
      }
    },
    {
      "cell_type": "markdown",
      "source": [
        "### ***Installation***"
      ],
      "metadata": {
        "id": "259ygsm3FzfU"
      }
    },
    {
      "cell_type": "code",
      "execution_count": 1,
      "metadata": {
        "id": "4Zqsr1eSUFJV"
      },
      "outputs": [],
      "source": [
        "!pip install transformers gradio wikipedia --quiet"
      ]
    },
    {
      "cell_type": "markdown",
      "source": [
        "###***Transformers***\n",
        "Fetch models from Hugging Face.\n",
        "\n",
        "we could easily use pre-trained language models like:\n",
        "\n",
        "Mistral, FLAN-T5, GPT-2, BERT, etc.\n",
        "\n",
        "***Key functions:***\n",
        "\n",
        "***AutoTokenizer*** – converts text into model-readable tokens.\n",
        "\n",
        "***AutoModelForCausalLM*** – loads the language model itself."
      ],
      "metadata": {
        "id": "30iXJY7N_p3L"
      }
    },
    {
      "cell_type": "markdown",
      "source": [
        "***gradio***\n",
        "\n",
        "Builds the user interface (text input/output fields)\n",
        "\n",
        "***wikipedia***\n",
        "\n",
        "Fetches real-world knowledge summaries from Wikipedia"
      ],
      "metadata": {
        "id": "CUX4RJXK_8pg"
      }
    },
    {
      "cell_type": "code",
      "source": [
        "!pip install  accelerate bitsandbytes --quiet\n"
      ],
      "metadata": {
        "collapsed": true,
        "id": "KHZd22YSencs"
      },
      "execution_count": 2,
      "outputs": []
    },
    {
      "cell_type": "markdown",
      "source": [
        "###***bitsandbytes***\n",
        "This library enables 4-bit and 8-bit quantization for large models.\n",
        "\n",
        "Reduces memory usage (VRAM) drastically\n",
        "\n",
        "Load big models (like Mistral-7B) on limited GPUs\n",
        "\n",
        "Use load_in_4bit=True when calling from_pretrained(...)\n",
        "\n",
        "###***accelerate***\n",
        "Library by Hugging Face to manage device placement (CPU/GPU/TPU) and distributed training easily.\n",
        "\n",
        "It handles complex stuff like:\n",
        "\n",
        "Moving models to the correct device\n",
        "\n",
        "Mixed precision (like float16)\n",
        "\n",
        "Training on multiple GPUs or even TPUs"
      ],
      "metadata": {
        "id": "ScuaPYzN_C8n"
      }
    },
    {
      "cell_type": "markdown",
      "source": [
        "### ***Importing Modules***"
      ],
      "metadata": {
        "id": "Hm3RUl8mF8Nq"
      }
    },
    {
      "cell_type": "code",
      "source": [
        "import wikipedia\n",
        "import re\n",
        "import torch\n",
        "import os\n",
        "from transformers import AutoTokenizer, AutoModelForCausalLM\n",
        "from huggingface_hub import login\n",
        "import gradio as gr"
      ],
      "metadata": {
        "id": "DEPfBTN_Gjkp"
      },
      "execution_count": 3,
      "outputs": []
    },
    {
      "cell_type": "markdown",
      "source": [
        "Model Loaders"
      ],
      "metadata": {
        "id": "lgsgSRChOPQz"
      }
    },
    {
      "cell_type": "markdown",
      "source": [
        "## ***Hugging Face***\n",
        "\n",
        "Hugging Face Hub is an online platform where AI models like Mistral are stored.\n",
        "\n",
        "Some models require authentication(like private or gated models(Mistral))\n",
        "\n",
        "Get a token from your Hugging Face account → used to unlock the models"
      ],
      "metadata": {
        "id": "qEefHCnXH9fw"
      }
    },
    {
      "cell_type": "code",
      "source": [
        "login()  # It will securely ask for the token without hardcoding\n",
        "\n",
        "# logs into the Hugging Face Hub using personal access token.\n"
      ],
      "metadata": {
        "id": "Tw163hhegkUV",
        "colab": {
          "base_uri": "https://localhost:8080/",
          "height": 49,
          "referenced_widgets": [
            "0242124dd0e64f23876dbb826b1d53c1",
            "fc3ff00a5f8446448f89bb197e598321",
            "a6b53f39287a4dd5a4ee17b36b7ddcab",
            "1d8e4c379aab48dd8e83f6e87cde8cf2",
            "443a7c66846348058035565a2b951f25",
            "4b8627ac6dbd4d47835c9ac7e720de46",
            "ddbf8701da4e4fcc869ac904e22021d5",
            "cec35ef73cbc42d699bca7b5194b8ebf",
            "d555bf2b559444d7a8ac7621952e1955",
            "cc0e22f677094b4491012d44b5444a0f",
            "5f24855969c84a44a9207cb1c3389374",
            "0893de6653994da7827df7a019caab9a",
            "17f3ceea255946e1ad741d9a54aa3fa1",
            "bc31fa8057ea44cf82cd6095e1156086",
            "bdae77b3a6f642948347556232515fa0",
            "1752a94c90434cc787dbb844db160db5",
            "6419e8f371564de2b0d3831a28ff4007",
            "217a6626888443809a3d14892df811f6",
            "38bd98e610cf4f388ce16fd1ff815af9",
            "0b3af0ce567f4e33968eabbbb1fe8d6f",
            "6c0994762b9b492f8dfe19deff658cda",
            "7b31ffb5678a4b23993e41e1b007f3e7",
            "46fd34482b604084ac651b70641efce5",
            "532108514f854296a193c25f5bec1e2e",
            "4e965fb743f444aa9d0c9766a29e4603",
            "3eab261af3fa4426a47730c808542e00"
          ]
        },
        "outputId": "3226dd61-4ac6-43cb-93ae-de19e864f25f"
      },
      "execution_count": 4,
      "outputs": [
        {
          "output_type": "display_data",
          "data": {
            "text/plain": [
              "VBox(children=(HTML(value='<center> <img\\nsrc=https://huggingface.co/front/assets/huggingface_logo-noborder.sv…"
            ],
            "application/vnd.jupyter.widget-view+json": {
              "version_major": 2,
              "version_minor": 0,
              "model_id": "0242124dd0e64f23876dbb826b1d53c1"
            }
          },
          "metadata": {}
        }
      ]
    },
    {
      "cell_type": "markdown",
      "source": [
        "## ***Loading a full-sized instruction-tuned LLM (Mistral 7B) from Hugging Face***"
      ],
      "metadata": {
        "id": "rFA37Ix9NRnI"
      }
    },
    {
      "cell_type": "code",
      "source": [
        "model_name = \"mistralai/Mistral-7B-Instruct-v0.1\"\n",
        "\n",
        "tokenizer = AutoTokenizer.from_pretrained(model_name)\n",
        "model = AutoModelForCausalLM.from_pretrained(\n",
        "    model_name,\n",
        "    device_map=\"auto\", #Auto-loads on GPU/CPU\n",
        "    load_in_4bit=True, # Loads a quantized version for low RAM usage\n",
        "    torch_dtype=torch.float16, #Uses half-precision to save VRAM\n",
        ")\n"
      ],
      "metadata": {
        "colab": {
          "base_uri": "https://localhost:8080/",
          "height": 171,
          "referenced_widgets": [
            "1cb9968d610c4326bc88561f2151b607",
            "cbc9e1f867f84984a7e5d331a6520da6",
            "0ce305d7a31e42e4807e29196a81133d",
            "326c74ded3494b859eaeeef7e7199750",
            "8226e3b0e3a64ce38e0cc466f1df8b01",
            "7a7eb350a50345a1b8671e89ef59abaf",
            "d19de3cfd2e449458ddffe5d37b2a84d",
            "a7820fffe2cd45958a654a1d11476773",
            "a6deb9ccf28f4e22bbb4ba9d485f8c4c",
            "751af843266743d19db2cabe612827bf",
            "d5b693282d3a416193ec1ff6f7a35398"
          ]
        },
        "id": "htHDG4gAG2zp",
        "outputId": "a1e89e99-b2e0-45b9-c089-9a4af8770ece"
      },
      "execution_count": 5,
      "outputs": [
        {
          "output_type": "stream",
          "name": "stderr",
          "text": [
            "/usr/local/lib/python3.11/dist-packages/huggingface_hub/utils/_auth.py:94: UserWarning: \n",
            "The secret `HF_TOKEN` does not exist in your Colab secrets.\n",
            "To authenticate with the Hugging Face Hub, create a token in your settings tab (https://huggingface.co/settings/tokens), set it as secret in your Google Colab and restart your session.\n",
            "You will be able to reuse this secret in all of your notebooks.\n",
            "Please note that authentication is recommended but still optional to access public models or datasets.\n",
            "  warnings.warn(\n",
            "The `load_in_4bit` and `load_in_8bit` arguments are deprecated and will be removed in the future versions. Please, pass a `BitsAndBytesConfig` object in `quantization_config` argument instead.\n"
          ]
        },
        {
          "output_type": "display_data",
          "data": {
            "text/plain": [
              "Loading checkpoint shards:   0%|          | 0/2 [00:00<?, ?it/s]"
            ],
            "application/vnd.jupyter.widget-view+json": {
              "version_major": 2,
              "version_minor": 0,
              "model_id": "1cb9968d610c4326bc88561f2151b607"
            }
          },
          "metadata": {}
        }
      ]
    },
    {
      "cell_type": "markdown",
      "source": [
        "##***The tokenizer's job***\n",
        " convert your input string → tokens (numbers the model understands).*italicized text*"
      ],
      "metadata": {
        "id": "MFpifUofMavm"
      }
    },
    {
      "cell_type": "markdown",
      "source": [
        "## ***Cleaning the Context***\n",
        "cleans raw Wikipedia text or PDF content before feeding it to the LLM — so the model doesn't get confused by LaTeX, special symbols, or messy spacing."
      ],
      "metadata": {
        "id": "EykhtHpuORG-"
      }
    },
    {
      "cell_type": "code",
      "source": [
        "def clean_context(text):\n",
        "    # Remove LaTeX-like symbols(\\frac, \\begin, \\alpha)\n",
        "    text = re.sub(r'\\\\[a-zA-Z]+', '', text)\n",
        "\n",
        "    # Remove unwanted characters but keep common punctuation\n",
        "    text = re.sub(r'[^a-zA-Z0-9.,:;()\\-\\+\\s]', '', text)\n",
        "\n",
        "    # Replace multiple spaces with single space\n",
        "    text = re.sub(r'\\s+', ' ', text).strip()\n",
        "\n",
        "    return text\n"
      ],
      "metadata": {
        "id": "5IJTPEBMOTIu"
      },
      "execution_count": 6,
      "outputs": []
    },
    {
      "cell_type": "markdown",
      "source": [
        "## ***Fetching Context from Wikipedia***"
      ],
      "metadata": {
        "id": "T1ijakVKOnS9"
      }
    },
    {
      "cell_type": "code",
      "source": [
        "def get_context(query):\n",
        "    try:\n",
        "        summary = wikipedia.summary(query, sentences=25) #summary of 25 sentences\n",
        "        return clean_context(summary)\n",
        "    except wikipedia.exceptions.DisambiguationError as e: #fault-tolerant\n",
        "        return f\"Ambiguous topic. Try one of: {e.options[:3]}\"\n",
        "    except wikipedia.exceptions.PageError: #no page that matches the query\n",
        "        return \"Page not found. Try a more specific topic.\"\n",
        "    except Exception as e:\n",
        "        return f\"Error: {str(e)}\""
      ],
      "metadata": {
        "id": "OyRN0_6XQNc1"
      },
      "execution_count": 7,
      "outputs": []
    },
    {
      "cell_type": "markdown",
      "source": [
        "#### ***Disambiguation***\n",
        "\n",
        "*   Happens if the query is vague (e.g., \"Apple\")\n",
        "\n",
        "*   Returns top 3 suggestions (e.g., \"Apple Inc.\", \"Apple (fruit)\", \"Apple Records\").\n",
        "\n"
      ],
      "metadata": {
        "id": "ojzIFy3VPJNw"
      }
    },
    {
      "cell_type": "markdown",
      "source": [
        "### ***Generate Simple Explanations and Quizzes Using a Language Model***"
      ],
      "metadata": {
        "id": "RYCz_f_17V9-"
      }
    },
    {
      "cell_type": "code",
      "source": [
        "def ask_mistral(query, context):\n",
        "    prompt = f\"\"\"You are a helpful AI tutor designed to explain concepts in a very simple and clear way for school students.\n",
        "\n",
        "Context:\n",
        "{context}\n",
        "\n",
        "Your task:\n",
        "1. Explain the topic \"{query}\" to a school student.\n",
        "2. Use exactly 10 bullet points.\n",
        "3. Each bullet point should be short, easy to understand, and focused on one important fact.\n",
        "4. Avoid complex terms, technical phrases, or long paragraphs.\n",
        "\n",
        "Then, generate 3 quiz questions based on this explanation.\n",
        "\n",
        "Respond only with the explanation and the quiz in this format:\n",
        "1. ...\n",
        "\n",
        "\"\"\"\n",
        "\n",
        "    inputs = tokenizer(prompt, return_tensors=\"pt\", truncation=True).to(model.device)\n",
        "\n",
        "    with torch.no_grad():\n",
        "        outputs = model.generate(\n",
        "            **inputs,\n",
        "            max_new_tokens=512,\n",
        "            temperature=0.7,\n",
        "            top_p=0.95,\n",
        "            do_sample=True,\n",
        "            pad_token_id=tokenizer.eos_token_id\n",
        "        )\n",
        "# Converts model’s tokens back to readable text.\n",
        "    response = tokenizer.decode(outputs[0], skip_special_tokens=True).strip()\n",
        "\n",
        "\n",
        "    start_idx = response.find(\"Explanation:\")\n",
        "    if start_idx != -1:\n",
        "        response = response[start_idx:]\n",
        "\n",
        "\n",
        "    explanation_part, quiz_part = response.split(\"Quiz Questions:\", 1)\n",
        "    explanation = explanation_part.replace(\"Explanation:\", \"\").strip()\n",
        "    quiz = quiz_part.strip()\n",
        "\n",
        "\n",
        "\n",
        "    return explanation, quiz\n"
      ],
      "metadata": {
        "id": "oAa_MkODiCgQ"
      },
      "execution_count": 8,
      "outputs": []
    },
    {
      "cell_type": "markdown",
      "source": [
        "***Purpose:***\n",
        "It creates a simple, school-level explanation and quiz for any topic using a language model.\n",
        "\n",
        "***Inputs:***\n",
        "Takes two inputs — query (the topic) and context (background info to guide the explanation).\n",
        "\n",
        "***Prompt Building:***\n",
        "Constructs a clear and structured prompt with rules: 10 easy bullet points and 3 quiz questions.\n",
        "\n",
        "***Model Response:***\n",
        "Sends the prompt to a language model, which returns a generated explanation and quiz.\n",
        "\n",
        "***Output:***\n",
        "Extracts and returns the explanation and quiz separately as two string values."
      ],
      "metadata": {
        "id": "ZjwGXN8b7n8y"
      }
    },
    {
      "cell_type": "code",
      "source": [
        "def tutor_pipeline(topic):\n",
        "    context = get_context(topic)\n",
        "    explanation, quiz = ask_mistral(topic, context)\n",
        "    return explanation, quiz"
      ],
      "metadata": {
        "id": "rm41SFqqkeF_"
      },
      "execution_count": 11,
      "outputs": []
    },
    {
      "cell_type": "markdown",
      "source": [
        "### ***AI Tutor UI with Gradio***"
      ],
      "metadata": {
        "id": "5RdfoM2nZjzD"
      }
    },
    {
      "cell_type": "code",
      "source": [
        "import gradio as gr\n",
        "\n",
        "with gr.Blocks(\n",
        "    theme=gr.themes.Soft(primary_hue=\"indigo\", secondary_hue=\"blue\"),\n",
        "    title=\"AI Tutor 📘\"\n",
        ") as iface:\n",
        "\n",
        "    # Header\n",
        "    gr.Markdown(\"\"\"\n",
        "    <div style='text-align: center; padding: 1.5rem; background-color: #e0edff; border-radius: 12px;'>\n",
        "        <h1 style='font-size: 2.5rem; color: #1e3a8a;'>📘 AI Tutor</h1>\n",
        "        <p style='font-size: 1.2rem; color: #334155; max-width: 600px; margin: auto;'>\n",
        "            Type a topic and get a 10-point explanation + quiz — Perfect for school students!\n",
        "        </p>\n",
        "    </div>\n",
        "    \"\"\")\n",
        "\n",
        "    with gr.Row():\n",
        "        with gr.Column(scale=1):\n",
        "            topic_input = gr.Textbox(\n",
        "                label=\"🔍 Enter a Topic\",\n",
        "                placeholder=\"E.g. Reproduction, Volcanoes, Photosynthesis...\",\n",
        "                lines=1,\n",
        "            )\n",
        "            submit_button = gr.Button(\"💡 Explain It\")\n",
        "\n",
        "        with gr.Column(scale=2):\n",
        "            output_explanation = gr.Textbox(\n",
        "                label=\"📘 Easiest Explanation\",\n",
        "                lines=12,\n",
        "                show_copy_button=True,\n",
        "                interactive=True\n",
        "            )\n",
        "\n",
        "            output_quiz = gr.Textbox(\n",
        "                label=\"❓ Quiz Questions\",\n",
        "                lines=5,\n",
        "                show_copy_button=True,\n",
        "                interactive=True\n",
        "            )\n",
        "\n",
        "    # Link the button to your pipeline\n",
        "    submit_button.click(\n",
        "        fn=tutor_pipeline,\n",
        "        inputs=topic_input,\n",
        "        outputs=[output_explanation, output_quiz]\n",
        "    )\n",
        "\n",
        "    # Footer\n",
        "    gr.Markdown(\"\"\"\n",
        "    <div style='text-align: center; margin-top: 2rem; font-size: 0.9rem; color: #64748b;'>\n",
        "        Built for curious minds — Powered by Mistral + Wikipedia\n",
        "    </div>\n",
        "    \"\"\")\n",
        "\n",
        "iface.launch()\n"
      ],
      "metadata": {
        "id": "rKvWjmZ2kfzl",
        "colab": {
          "base_uri": "https://localhost:8080/",
          "height": 626
        },
        "outputId": "b0eebfff-04be-4f01-f431-c3ae23727783"
      },
      "execution_count": 12,
      "outputs": [
        {
          "output_type": "stream",
          "name": "stdout",
          "text": [
            "It looks like you are running Gradio on a hosted a Jupyter notebook. For the Gradio app to work, sharing must be enabled. Automatically setting `share=True` (you can turn this off by setting `share=False` in `launch()` explicitly).\n",
            "\n",
            "Colab notebook detected. To show errors in colab notebook, set debug=True in launch()\n",
            "* Running on public URL: https://1a2caf3f38fa34329b.gradio.live\n",
            "\n",
            "This share link expires in 1 week. For free permanent hosting and GPU upgrades, run `gradio deploy` from the terminal in the working directory to deploy to Hugging Face Spaces (https://huggingface.co/spaces)\n"
          ]
        },
        {
          "output_type": "display_data",
          "data": {
            "text/plain": [
              "<IPython.core.display.HTML object>"
            ],
            "text/html": [
              "<div><iframe src=\"https://1a2caf3f38fa34329b.gradio.live\" width=\"100%\" height=\"500\" allow=\"autoplay; camera; microphone; clipboard-read; clipboard-write;\" frameborder=\"0\" allowfullscreen></iframe></div>"
            ]
          },
          "metadata": {}
        },
        {
          "output_type": "execute_result",
          "data": {
            "text/plain": []
          },
          "metadata": {},
          "execution_count": 12
        }
      ]
    }
  ]
}